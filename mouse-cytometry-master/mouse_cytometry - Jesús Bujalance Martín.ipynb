{
 "cells": [
  {
   "cell_type": "markdown",
   "metadata": {},
   "source": [
    "# [Paris Saclay Center for Data Science](http://www.datascience-paris-saclay.fr)\n",
    "\n",
    "## [Cell phenotyping](http://www.ramp.studio/problems/mouse_cytometry): population identification from single cell data\n",
    "\n",
    "_Georgios Papoutsoglou (University of Crete), Balázs Kégl (CNRS)_\n",
    "\n",
    "## Introduction\n",
    "\n",
    "\n",
    "Tissue samples are mixtures of several distinct cell types, each of which performs certain activities for the maintenance of proper tissue functioning. To carry out these activites, cells of each type are programmed to produce specific sets of membrane proteins, known as markers. These markers are usually involved in activities such as communication, adhesion, or metabolism. The specificity of a marker to an activity and, concomitantly, to a cell type makes it ideal to use for separating cells into different populations. A caveat to this task is that some surface markers will often be present on more than one cell populations.\n",
    "\n",
    "In this context, cell phenotyping is the analysis of such heterogeneous populations of cells based on the types of proteins installed on their surfaces (phenotype). The purpose of this process is to identify the presence and proportions of the various populations of interest and enable the determination of their functions in tissues. As such, cell phenotyping has led to the significant improvement of our understanding of biological mechanisms and their association with disease. \n",
    "\n",
    "Single-cell technologies, such as flow/mass cytometry, are able to detect and objectively measure the abundance of cell markers in hundreds of thousands of individual cells and acquire data about dozens of them in a matter of seconds. Flow cytometry platforms, for example, have been used for decades now as a research tool to distinguish different cell types in mixed populations by measuring up to 20 markers on a cell-by-cell basis. More recently, the advent of mass cytometry has pushed this limit up to more than 40 parameters, boosting the potential resolution of phenotyping.\n",
    "\n",
    "Until today, however, the analysis of the resulting high-dimensional datasets relies on the subjective and time-consuming _gating_, that is, a manual labeling procedure whereby cells are iteratively partitioned into populations through visual inspection by an expert using a single one-dimensional histogram or a two-dimensional scatterplot at a time. This inefficiency to handle high-dimensional data has resulted in a growing interest for the development of robust computational methods that are able to identify interesting cell populations in an automated manner. In response to such need, the goal of this challenge is to develop prediction models able to **identify cell populations from single cell mass cytometry data**.\n",
    "\n",
    "\n",
    "## Data synopsis\n",
    "\n",
    "The data is from [Samusik et al.](https://www.nature.com/nmeth/journal/v13/n6/full/nmeth.3863.html) where 38 surface markers (_features_) were measured in cells from the the bone marrow of healthy mice. The samples were analyzed and independently hand-gated by experts to identify 24 immune cell populations (_classes_).\n",
    "\n",
    "We provide a random subset of 160K cell samples (from the [>500K publicly available](https://www.dropbox.com/sh/fx83o71jmjac554/AAA5yyvE_3dKRnvQM5VoJPLba?dl=0)).\n",
    "\n",
    "Part of these data are saved in the files _train.csv_ and _test.csv_ as follows (<i>n_samples</i> being the number of cell samples, <i>n_feat</i> being the number of features/markers and <i>cell_type</i> being class labels):\n",
    "\n",
    "<ul>\n",
    "<li> each <b>row</b> corresponds to a cell sample</li>\n",
    "<li> <b>columns 1 to 38</b> contain the abundance levels of the 38 surface markers (features). Dimensions: (n_samples, n_feat)</li>\n",
    "<li><b>column 39 (<i>cell_type</i>)</b> contains the population label that each cell corresponds to according to manual gating by experts. Twenty four possible values. Dimensions: (n_samples, 1)</li>\n",
    "</ul>"
   ]
  },
  {
   "cell_type": "code",
   "execution_count": 1,
   "metadata": {},
   "outputs": [],
   "source": [
    "%matplotlib inline\n",
    "import os\n",
    "import glob\n",
    "import numpy as np\n",
    "from scipy import io\n",
    "import matplotlib.pyplot as plt\n",
    "import pandas as pd\n",
    "import seaborn as sns\n",
    "pd.options.display.max_columns = 40"
   ]
  },
  {
   "cell_type": "markdown",
   "metadata": {},
   "source": [
    "## Exploratory data analysis"
   ]
  },
  {
   "cell_type": "markdown",
   "metadata": {},
   "source": [
    "### Loading the data"
   ]
  },
  {
   "cell_type": "code",
   "execution_count": 2,
   "metadata": {
    "scrolled": true
   },
   "outputs": [
    {
     "data": {
      "text/html": [
       "<div>\n",
       "<style scoped>\n",
       "    .dataframe tbody tr th:only-of-type {\n",
       "        vertical-align: middle;\n",
       "    }\n",
       "\n",
       "    .dataframe tbody tr th {\n",
       "        vertical-align: top;\n",
       "    }\n",
       "\n",
       "    .dataframe thead th {\n",
       "        text-align: right;\n",
       "    }\n",
       "</style>\n",
       "<table border=\"1\" class=\"dataframe\">\n",
       "  <thead>\n",
       "    <tr style=\"text-align: right;\">\n",
       "      <th></th>\n",
       "      <th>CD45_2</th>\n",
       "      <th>Ly6G</th>\n",
       "      <th>IgD</th>\n",
       "      <th>CD11c</th>\n",
       "      <th>F480</th>\n",
       "      <th>CD3</th>\n",
       "      <th>NKp46</th>\n",
       "      <th>CD23</th>\n",
       "      <th>CD34</th>\n",
       "      <th>CD115</th>\n",
       "      <th>CD19</th>\n",
       "      <th>CD317</th>\n",
       "      <th>CD8</th>\n",
       "      <th>Ly6C</th>\n",
       "      <th>CD4</th>\n",
       "      <th>CD11b</th>\n",
       "      <th>CD27</th>\n",
       "      <th>CD16_32</th>\n",
       "      <th>SiglecF</th>\n",
       "      <th>Foxp3</th>\n",
       "      <th>B220</th>\n",
       "      <th>CD5</th>\n",
       "      <th>FceR1a</th>\n",
       "      <th>TCRgd</th>\n",
       "      <th>CCR7</th>\n",
       "      <th>Sca1</th>\n",
       "      <th>CD49b</th>\n",
       "      <th>cKit</th>\n",
       "      <th>CD150</th>\n",
       "      <th>CD25</th>\n",
       "      <th>TCRb</th>\n",
       "      <th>CD43</th>\n",
       "      <th>CD64</th>\n",
       "      <th>CD138</th>\n",
       "      <th>CD103</th>\n",
       "      <th>IgM</th>\n",
       "      <th>CD44</th>\n",
       "      <th>MHCII</th>\n",
       "      <th>replicate</th>\n",
       "    </tr>\n",
       "  </thead>\n",
       "  <tbody>\n",
       "    <tr>\n",
       "      <th>0</th>\n",
       "      <td>25.322300</td>\n",
       "      <td>-0.414878</td>\n",
       "      <td>19.072302</td>\n",
       "      <td>-0.406325</td>\n",
       "      <td>8.004113</td>\n",
       "      <td>-0.226281</td>\n",
       "      <td>-0.693795</td>\n",
       "      <td>-0.502405</td>\n",
       "      <td>0.214797</td>\n",
       "      <td>-0.651973</td>\n",
       "      <td>7.006814</td>\n",
       "      <td>1.082769</td>\n",
       "      <td>0.030035</td>\n",
       "      <td>-0.296310</td>\n",
       "      <td>-0.660964</td>\n",
       "      <td>8.775167</td>\n",
       "      <td>-0.275792</td>\n",
       "      <td>15.888521</td>\n",
       "      <td>1.915515</td>\n",
       "      <td>-0.773721</td>\n",
       "      <td>21.440584</td>\n",
       "      <td>-0.833507</td>\n",
       "      <td>4.223345</td>\n",
       "      <td>-0.597891</td>\n",
       "      <td>-0.823490</td>\n",
       "      <td>17.817902</td>\n",
       "      <td>-0.160072</td>\n",
       "      <td>1.121113</td>\n",
       "      <td>-0.836055</td>\n",
       "      <td>-0.190984</td>\n",
       "      <td>-0.014425</td>\n",
       "      <td>0.783888</td>\n",
       "      <td>1.267933</td>\n",
       "      <td>1.781378</td>\n",
       "      <td>6.060744</td>\n",
       "      <td>143.941238</td>\n",
       "      <td>1.556530</td>\n",
       "      <td>433.069550</td>\n",
       "      <td>1</td>\n",
       "    </tr>\n",
       "    <tr>\n",
       "      <th>1</th>\n",
       "      <td>5.688966</td>\n",
       "      <td>-0.656603</td>\n",
       "      <td>1.936562</td>\n",
       "      <td>-0.338733</td>\n",
       "      <td>-0.019797</td>\n",
       "      <td>-0.710901</td>\n",
       "      <td>-0.262018</td>\n",
       "      <td>-0.707716</td>\n",
       "      <td>-0.223714</td>\n",
       "      <td>-0.343710</td>\n",
       "      <td>-0.097053</td>\n",
       "      <td>-0.267780</td>\n",
       "      <td>1.114447</td>\n",
       "      <td>-0.147502</td>\n",
       "      <td>-0.531843</td>\n",
       "      <td>35.129585</td>\n",
       "      <td>-0.285497</td>\n",
       "      <td>368.874481</td>\n",
       "      <td>19.613203</td>\n",
       "      <td>0.662094</td>\n",
       "      <td>0.018612</td>\n",
       "      <td>-0.246291</td>\n",
       "      <td>5.381715</td>\n",
       "      <td>-0.186779</td>\n",
       "      <td>-0.510146</td>\n",
       "      <td>-0.166597</td>\n",
       "      <td>103.653893</td>\n",
       "      <td>1.673315</td>\n",
       "      <td>-0.150073</td>\n",
       "      <td>-0.253155</td>\n",
       "      <td>-0.380198</td>\n",
       "      <td>-0.738412</td>\n",
       "      <td>-0.249999</td>\n",
       "      <td>-0.345677</td>\n",
       "      <td>-0.706774</td>\n",
       "      <td>-0.649381</td>\n",
       "      <td>42.760521</td>\n",
       "      <td>0.370612</td>\n",
       "      <td>1</td>\n",
       "    </tr>\n",
       "    <tr>\n",
       "      <th>2</th>\n",
       "      <td>16.577675</td>\n",
       "      <td>3.037624</td>\n",
       "      <td>28.618662</td>\n",
       "      <td>-0.226679</td>\n",
       "      <td>0.698736</td>\n",
       "      <td>-0.687407</td>\n",
       "      <td>-0.594474</td>\n",
       "      <td>4.009264</td>\n",
       "      <td>-0.182212</td>\n",
       "      <td>1.097268</td>\n",
       "      <td>4.403724</td>\n",
       "      <td>0.295415</td>\n",
       "      <td>-0.489098</td>\n",
       "      <td>-0.172496</td>\n",
       "      <td>-0.383780</td>\n",
       "      <td>-0.418165</td>\n",
       "      <td>-0.393277</td>\n",
       "      <td>8.735498</td>\n",
       "      <td>4.567228</td>\n",
       "      <td>3.064497</td>\n",
       "      <td>138.576797</td>\n",
       "      <td>4.661004</td>\n",
       "      <td>1.745882</td>\n",
       "      <td>-0.504398</td>\n",
       "      <td>-0.194553</td>\n",
       "      <td>35.861137</td>\n",
       "      <td>-0.782560</td>\n",
       "      <td>-0.451337</td>\n",
       "      <td>0.265020</td>\n",
       "      <td>-0.760213</td>\n",
       "      <td>-0.633052</td>\n",
       "      <td>-0.371888</td>\n",
       "      <td>4.576766</td>\n",
       "      <td>-0.538884</td>\n",
       "      <td>-0.057883</td>\n",
       "      <td>19.495363</td>\n",
       "      <td>2.384282</td>\n",
       "      <td>501.027222</td>\n",
       "      <td>1</td>\n",
       "    </tr>\n",
       "    <tr>\n",
       "      <th>3</th>\n",
       "      <td>12.619972</td>\n",
       "      <td>-0.135255</td>\n",
       "      <td>-0.200250</td>\n",
       "      <td>0.760378</td>\n",
       "      <td>10.994702</td>\n",
       "      <td>0.818546</td>\n",
       "      <td>-0.435885</td>\n",
       "      <td>0.548840</td>\n",
       "      <td>6.483472</td>\n",
       "      <td>1.808445</td>\n",
       "      <td>-0.004943</td>\n",
       "      <td>-0.509837</td>\n",
       "      <td>-0.203738</td>\n",
       "      <td>4.071029</td>\n",
       "      <td>0.285222</td>\n",
       "      <td>39.121468</td>\n",
       "      <td>-0.605241</td>\n",
       "      <td>94.969742</td>\n",
       "      <td>98.702667</td>\n",
       "      <td>7.406890</td>\n",
       "      <td>-0.492408</td>\n",
       "      <td>1.794403</td>\n",
       "      <td>0.737259</td>\n",
       "      <td>-0.581589</td>\n",
       "      <td>-0.105200</td>\n",
       "      <td>0.355662</td>\n",
       "      <td>8.762753</td>\n",
       "      <td>0.326256</td>\n",
       "      <td>-0.565969</td>\n",
       "      <td>-0.392343</td>\n",
       "      <td>1.538817</td>\n",
       "      <td>2.087312</td>\n",
       "      <td>2.868069</td>\n",
       "      <td>0.666312</td>\n",
       "      <td>2.692082</td>\n",
       "      <td>1.417462</td>\n",
       "      <td>235.478745</td>\n",
       "      <td>2.039408</td>\n",
       "      <td>1</td>\n",
       "    </tr>\n",
       "    <tr>\n",
       "      <th>4</th>\n",
       "      <td>41.787132</td>\n",
       "      <td>-0.718017</td>\n",
       "      <td>0.239240</td>\n",
       "      <td>-0.602358</td>\n",
       "      <td>1.000802</td>\n",
       "      <td>-0.478795</td>\n",
       "      <td>-0.710591</td>\n",
       "      <td>-0.145891</td>\n",
       "      <td>10.214432</td>\n",
       "      <td>3.836318</td>\n",
       "      <td>-0.619562</td>\n",
       "      <td>207.961685</td>\n",
       "      <td>7.600501</td>\n",
       "      <td>28.485512</td>\n",
       "      <td>0.368853</td>\n",
       "      <td>-0.050024</td>\n",
       "      <td>-0.166081</td>\n",
       "      <td>1.162022</td>\n",
       "      <td>0.442354</td>\n",
       "      <td>-0.546725</td>\n",
       "      <td>73.401352</td>\n",
       "      <td>0.287523</td>\n",
       "      <td>2.637238</td>\n",
       "      <td>2.915704</td>\n",
       "      <td>15.528143</td>\n",
       "      <td>1369.792358</td>\n",
       "      <td>33.122932</td>\n",
       "      <td>0.404252</td>\n",
       "      <td>-0.776655</td>\n",
       "      <td>-0.562648</td>\n",
       "      <td>-0.677347</td>\n",
       "      <td>-0.102858</td>\n",
       "      <td>-0.533857</td>\n",
       "      <td>-0.012488</td>\n",
       "      <td>-0.681483</td>\n",
       "      <td>0.039034</td>\n",
       "      <td>18.257036</td>\n",
       "      <td>30.230536</td>\n",
       "      <td>1</td>\n",
       "    </tr>\n",
       "  </tbody>\n",
       "</table>\n",
       "</div>"
      ],
      "text/plain": [
       "      CD45_2      Ly6G        IgD     CD11c       F480       CD3     NKp46  \\\n",
       "0  25.322300 -0.414878  19.072302 -0.406325   8.004113 -0.226281 -0.693795   \n",
       "1   5.688966 -0.656603   1.936562 -0.338733  -0.019797 -0.710901 -0.262018   \n",
       "2  16.577675  3.037624  28.618662 -0.226679   0.698736 -0.687407 -0.594474   \n",
       "3  12.619972 -0.135255  -0.200250  0.760378  10.994702  0.818546 -0.435885   \n",
       "4  41.787132 -0.718017   0.239240 -0.602358   1.000802 -0.478795 -0.710591   \n",
       "\n",
       "       CD23       CD34     CD115      CD19       CD317       CD8       Ly6C  \\\n",
       "0 -0.502405   0.214797 -0.651973  7.006814    1.082769  0.030035  -0.296310   \n",
       "1 -0.707716  -0.223714 -0.343710 -0.097053   -0.267780  1.114447  -0.147502   \n",
       "2  4.009264  -0.182212  1.097268  4.403724    0.295415 -0.489098  -0.172496   \n",
       "3  0.548840   6.483472  1.808445 -0.004943   -0.509837 -0.203738   4.071029   \n",
       "4 -0.145891  10.214432  3.836318 -0.619562  207.961685  7.600501  28.485512   \n",
       "\n",
       "        CD4      CD11b      CD27     CD16_32    SiglecF     Foxp3        B220  \\\n",
       "0 -0.660964   8.775167 -0.275792   15.888521   1.915515 -0.773721   21.440584   \n",
       "1 -0.531843  35.129585 -0.285497  368.874481  19.613203  0.662094    0.018612   \n",
       "2 -0.383780  -0.418165 -0.393277    8.735498   4.567228  3.064497  138.576797   \n",
       "3  0.285222  39.121468 -0.605241   94.969742  98.702667  7.406890   -0.492408   \n",
       "4  0.368853  -0.050024 -0.166081    1.162022   0.442354 -0.546725   73.401352   \n",
       "\n",
       "        CD5    FceR1a     TCRgd       CCR7         Sca1       CD49b      cKit  \\\n",
       "0 -0.833507  4.223345 -0.597891  -0.823490    17.817902   -0.160072  1.121113   \n",
       "1 -0.246291  5.381715 -0.186779  -0.510146    -0.166597  103.653893  1.673315   \n",
       "2  4.661004  1.745882 -0.504398  -0.194553    35.861137   -0.782560 -0.451337   \n",
       "3  1.794403  0.737259 -0.581589  -0.105200     0.355662    8.762753  0.326256   \n",
       "4  0.287523  2.637238  2.915704  15.528143  1369.792358   33.122932  0.404252   \n",
       "\n",
       "      CD150      CD25      TCRb      CD43      CD64     CD138     CD103  \\\n",
       "0 -0.836055 -0.190984 -0.014425  0.783888  1.267933  1.781378  6.060744   \n",
       "1 -0.150073 -0.253155 -0.380198 -0.738412 -0.249999 -0.345677 -0.706774   \n",
       "2  0.265020 -0.760213 -0.633052 -0.371888  4.576766 -0.538884 -0.057883   \n",
       "3 -0.565969 -0.392343  1.538817  2.087312  2.868069  0.666312  2.692082   \n",
       "4 -0.776655 -0.562648 -0.677347 -0.102858 -0.533857 -0.012488 -0.681483   \n",
       "\n",
       "          IgM        CD44       MHCII  replicate  \n",
       "0  143.941238    1.556530  433.069550          1  \n",
       "1   -0.649381   42.760521    0.370612          1  \n",
       "2   19.495363    2.384282  501.027222          1  \n",
       "3    1.417462  235.478745    2.039408          1  \n",
       "4    0.039034   18.257036   30.230536          1  "
      ]
     },
     "execution_count": 2,
     "metadata": {},
     "output_type": "execute_result"
    }
   ],
   "source": [
    "train_filename = 'data/train.csv.gz'\n",
    "data = pd.read_csv(train_filename)\n",
    "y_df = data['cell type']\n",
    "X_df = data.drop(['cell type'], axis=1)\n",
    "X_df.head(5)"
   ]
  },
  {
   "cell_type": "markdown",
   "metadata": {},
   "source": [
    "### Predicting cell type\n",
    "\n",
    "The goal is to predict the cell type. Let us group the data according to the `cell type` columns:"
   ]
  },
  {
   "cell_type": "code",
   "execution_count": 3,
   "metadata": {},
   "outputs": [
    {
     "data": {
      "text/plain": [
       "cell type\n",
       "HSC                                  3\n",
       "gd T cells                          46\n",
       "CLP                                 53\n",
       "mDCs                               123\n",
       "MPP                                171\n",
       "Plasma Cells                       190\n",
       "CMP                                257\n",
       "Macrophages                        309\n",
       "NK cells                           348\n",
       "B-cell Frac A-C (pro-B cells)      471\n",
       "Basophils                          498\n",
       "MEP                                615\n",
       "CD4 T cells                        705\n",
       "GMP                                861\n",
       "NKT cells                         1083\n",
       "Non-Classical Monocytes           1130\n",
       "CD8 T cells                       1462\n",
       "IgM- IgD- B-cells                 1916\n",
       "pDCs                              3389\n",
       "IgD- IgMpos B cells               5273\n",
       "Eosinophils                       7117\n",
       "Intermediate Monocytes           10454\n",
       "IgDpos IgMpos B cells            13582\n",
       "Classical Monocytes              13944\n",
       "Name: CD45_2, dtype: int64"
      ]
     },
     "execution_count": 3,
     "metadata": {},
     "output_type": "execute_result"
    }
   ],
   "source": [
    "counts = data.groupby('cell type').count()['CD45_2']\n",
    "counts.sort_values()"
   ]
  },
  {
   "cell_type": "markdown",
   "metadata": {},
   "source": [
    "### Some plots"
   ]
  },
  {
   "cell_type": "markdown",
   "metadata": {},
   "source": [
    "#### Features densities and co-evolution\n",
    "A scatterplot matrix allows us to visualize:\n",
    "* on the diagonal, the density estimation for each feature\n",
    "* on each of the off-diagonal plots, a scatterplot between two features. Each dot represents an instance."
   ]
  },
  {
   "cell_type": "code",
   "execution_count": 4,
   "metadata": {},
   "outputs": [
    {
     "name": "stderr",
     "output_type": "stream",
     "text": [
      "/usr/lib/python3.6/site-packages/ipykernel_launcher.py:7: FutureWarning: 'pandas.tools.plotting.scatter_matrix' is deprecated, import 'pandas.plotting.scatter_matrix' instead.\n",
      "  import sys\n"
     ]
    },
    {
     "data": {
      "image/png": "[encoded data removed]",
      "text/plain": [
       "<Figure size 576x576 with 9 Axes>"
      ]
     },
     "metadata": {},
     "output_type": "display_data"
    }
   ],
   "source": [
    "from pandas.tools.plotting import scatter_matrix\n",
    "\n",
    "data_plot = data[['CD45_2', 'Ly6G', 'IgD', 'cell type']].iloc[\n",
    "    np.random.choice(len(data), 1000)]\n",
    "\n",
    "scatter_matrix(data_plot, alpha=0.2,\n",
    "               figsize=(8, 8), diagonal='kde');"
   ]
  },
  {
   "cell_type": "markdown",
   "metadata": {},
   "source": [
    "#### Plot the bivariate distributions and marginals of two variables \n",
    "\n",
    "Another way of visualizing relationships between variables is to plot their bivariate distributions."
   ]
  },
  {
   "cell_type": "code",
   "execution_count": 5,
   "metadata": {
    "scrolled": false
   },
   "outputs": [
    {
     "data": {
      "image/png": "[encoded data removed]",
      "text/plain": [
       "<Figure size 504x504 with 3 Axes>"
      ]
     },
     "metadata": {},
     "output_type": "display_data"
    },
    {
     "data": {
      "image/png": "[encoded data removed]",
      "text/plain": [
       "<Figure size 504x504 with 3 Axes>"
      ]
     },
     "metadata": {},
     "output_type": "display_data"
    }
   ],
   "source": [
    "sns.set()\n",
    "sns.set_style(\"whitegrid\")\n",
    "sns.jointplot(data_plot['CD45_2'][data_plot['cell type'] == 'IgDpos IgMpos B cells'],\n",
    "              data_plot['IgD'][data_plot['cell type'] == 'IgDpos IgMpos B cells'],\n",
    "              kind=\"kde\", size=7, space=0, color=\"b\");\n",
    "\n",
    "sns.jointplot(data_plot['CD45_2'][data_plot['cell type'] == 'Classical Monocytes'],\n",
    "              data_plot['IgD'][data_plot['cell type'] == 'Classical Monocytes'],\n",
    "              kind=\"kde\", size=7, space=0, color=\"b\");\n"
   ]
  },
  {
   "cell_type": "code",
   "execution_count": null,
   "metadata": {},
   "outputs": [],
   "source": []
  },
  {
   "cell_type": "markdown",
   "metadata": {},
   "source": [
    "Jesús Bujalance Martín"
   ]
  },
  {
   "cell_type": "markdown",
   "metadata": {},
   "source": [
    "# DEBUT DU TP\n"
   ]
  },
  {
   "cell_type": "markdown",
   "metadata": {},
   "source": [
    "### Recupérer les données "
   ]
  },
  {
   "cell_type": "code",
   "execution_count": 6,
   "metadata": {},
   "outputs": [],
   "source": [
    "import os\n",
    "import numpy as np\n",
    "import pandas as pd\n",
    "from sklearn.model_selection import GridSearchCV\n",
    "from sklearn.metrics import classification_report\n",
    "from sklearn.metrics import confusion_matrix\n",
    "import matplotlib.pyplot as plt\n",
    "\n",
    "_target_column_name = 'cell type'\n",
    "_prediction_label_names = [\n",
    "    'B-cell Frac A-C (pro-B cells)', 'Basophils', 'CD4 T cells', 'CD8 T cells',\n",
    "    'CLP', 'CMP', 'Classical Monocytes', 'Eosinophils', 'GMP', 'HSC',\n",
    "    'IgD- IgMpos B cells', 'IgDpos IgMpos B cells', 'IgM- IgD- B-cells',\n",
    "    'Intermediate Monocytes', 'MEP', 'MPP', 'Macrophages', 'NK cells',\n",
    "    'NKT cells', 'Non-Classical Monocytes', 'Plasma Cells', 'gd T cells',\n",
    "    'mDCs', 'pDCs']\n",
    "\n",
    "def _read_data(path, f_name):\n",
    "    data = pd.read_csv(os.path.join(path, 'data', f_name))\n",
    "    y_array = data[_target_column_name]\n",
    "    X_df = data.drop([_target_column_name], axis=1)\n",
    "    X_df = X_df.drop(['replicate'], axis=1)\n",
    "    return X_df, y_array\n",
    "\n",
    "\n",
    "def get_train_data(path='.'):\n",
    "    f_name = 'train.csv.gz'\n",
    "    return _read_data(path, f_name)\n",
    "\n",
    "\n",
    "def get_test_data(path='.'):\n",
    "    f_name = 'test.csv.gz'\n",
    "    return _read_data(path, f_name)"
   ]
  },
  {
   "cell_type": "code",
   "execution_count": 7,
   "metadata": {},
   "outputs": [],
   "source": [
    "#Get the training data.\n",
    "X_train, y_train = get_train_data()\n",
    "\n",
    "#Get the test data.\n",
    "X_test, y_test = get_test_data()\n",
    "\n",
    "#Transform the training dataframe into numpy array.\n",
    "X_train = X_train.values\n",
    "X_test = X_test.values"
   ]
  },
  {
   "cell_type": "code",
   "execution_count": 8,
   "metadata": {},
   "outputs": [],
   "source": [
    "# Standardisation des données\n",
    "X_train = X_train - np.mean(X_train, axis=0)\n",
    "X_train = X_train / np.std(X_train, axis=0)\n",
    "\n",
    "X_test = X_test - np.mean(X_test, axis=0)\n",
    "X_test = X_test / np.std(X_test, axis=0)"
   ]
  },
  {
   "cell_type": "markdown",
   "metadata": {},
   "source": [
    "### Premier essai : arbre de decision"
   ]
  },
  {
   "cell_type": "code",
   "execution_count": 9,
   "metadata": {},
   "outputs": [
    {
     "name": "stdout",
     "output_type": "stream",
     "text": [
      "Résultats de la cross-validation :\n",
      "Best: 0.995938 using {'criterion': 'entropy', 'max_depth': 15, 'min_samples_split': 2}\n"
     ]
    }
   ],
   "source": [
    "from sklearn import tree\n",
    "\n",
    "param_grid = {'criterion':['gini', 'entropy'], \n",
    "              'max_depth':[5,10,15], 'min_samples_split':[2,3,4,5]}\n",
    "\n",
    "# Initialiser un arbre\n",
    "arbol = tree.DecisionTreeClassifier()\n",
    "\n",
    "# Initialiser une validation croisée\n",
    "clf = GridSearchCV(arbol, param_grid)\n",
    "\n",
    "# Faire tourner la validation croisée sur le jeu d'entraînement\n",
    "clf.fit(X_train, y_train)\n",
    "\n",
    "print(\"Résultats de la cross-validation :\")\n",
    "print(\"Best: %f using %s\" % (clf.best_score_,\n",
    "                             clf.best_params_))"
   ]
  },
  {
   "cell_type": "code",
   "execution_count": 10,
   "metadata": {},
   "outputs": [],
   "source": [
    "best_parameters=clf.best_params_"
   ]
  },
  {
   "cell_type": "code",
   "execution_count": 11,
   "metadata": {},
   "outputs": [
    {
     "name": "stdout",
     "output_type": "stream",
     "text": [
      "GridSearchCV(cv=None, error_score='raise',\n",
      "       estimator=DecisionTreeClassifier(class_weight=None, criterion='gini', max_depth=None,\n",
      "            max_features=None, max_leaf_nodes=None,\n",
      "            min_impurity_decrease=0.0, min_impurity_split=None,\n",
      "            min_samples_leaf=1, min_samples_split=2,\n",
      "            min_weight_fraction_leaf=0.0, presort=False, random_state=None,\n",
      "            splitter='best'),\n",
      "       fit_params=None, iid=True, n_jobs=1,\n",
      "       param_grid={'criterion': ['gini', 'entropy'], 'max_depth': [5, 10, 15], 'min_samples_split': [2, 3, 4, 5]},\n",
      "       pre_dispatch='2*n_jobs', refit=True, return_train_score='warn',\n",
      "       scoring=None, verbose=0)\n",
      "Acuracy (on test set) =  0.96615625\n",
      "                               precision    recall  f1-score   support\n",
      "\n",
      "B-cell Frac A-C (pro-B cells)       0.78      0.86      0.82       252\n",
      "                    Basophils       0.92      0.93      0.93       259\n",
      "                  CD4 T cells       0.91      0.91      0.91       327\n",
      "                  CD8 T cells       0.97      1.00      0.98       722\n",
      "                          CLP       0.97      1.00      0.98        29\n",
      "                          CMP       0.99      0.97      0.98       174\n",
      "          Classical Monocytes       1.00      1.00      1.00      6288\n",
      "                  Eosinophils       0.99      1.00      1.00      3186\n",
      "                          GMP       1.00      0.99      0.99       416\n",
      "                          HSC       0.00      0.00      0.00         1\n",
      "          IgD- IgMpos B cells       0.80      1.00      0.89      2908\n",
      "        IgDpos IgMpos B cells       1.00      1.00      1.00      6588\n",
      "            IgM- IgD- B-cells       0.99      0.55      0.71      1551\n",
      "       Intermediate Monocytes       0.99      1.00      0.99      5559\n",
      "                          MEP       0.98      0.95      0.96       376\n",
      "                          MPP       0.91      0.99      0.95        73\n",
      "                  Macrophages       0.91      0.92      0.91       282\n",
      "                     NK cells       0.93      0.96      0.94       277\n",
      "                    NKT cells       0.98      0.93      0.96       503\n",
      "      Non-Classical Monocytes       0.98      0.93      0.95       295\n",
      "                 Plasma Cells       0.93      0.83      0.88       179\n",
      "                   gd T cells       0.92      0.88      0.90        26\n",
      "                         mDCs       0.91      0.81      0.86        74\n",
      "                         pDCs       1.00      0.95      0.97      1655\n",
      "\n",
      "                  avg / total       0.97      0.97      0.96     32000\n",
      "\n"
     ]
    }
   ],
   "source": [
    "print(clf)\n",
    "score = clf.score(X_test, y_test)\n",
    "print(\"Acuracy (on test set) = \", score)\n",
    "y_true, y_pred = y_test, clf.predict(X_test)\n",
    "print( classification_report(y_true, y_pred) )\n",
    "# print(\"\\n CONFUSION MATRIX\")\n",
    "# print( confusion_matrix(y_true, y_pred) )"
   ]
  },
  {
   "cell_type": "markdown",
   "metadata": {},
   "source": [
    "On obtient un score de 0.966 sur le jeu de test"
   ]
  },
  {
   "cell_type": "markdown",
   "metadata": {},
   "source": [
    "### PCA"
   ]
  },
  {
   "cell_type": "markdown",
   "metadata": {},
   "source": [
    "On réalise un PCA pour voir si on peut réduire les dimensions du problème. Il y a deux avantages principales :\n",
    "- on a besoin de réaliser beaucoup moins de calculs\n",
    "- on peut éviter de faire de l'overfitting"
   ]
  },
  {
   "cell_type": "code",
   "execution_count": 12,
   "metadata": {},
   "outputs": [
    {
     "name": "stdout",
     "output_type": "stream",
     "text": [
      "number of components :  24\n"
     ]
    }
   ],
   "source": [
    "from sklearn import decomposition\n",
    "pca = decomposition.PCA()\n",
    "pca.fit(X_train)\n",
    "X_train_pca = pca.transform(X_train)\n",
    "\n",
    "# ratio[i] is the cumulative variance explained by the first i+1 dimensions\n",
    "ratio = np.cumsum(pca.explained_variance_ratio_)\n",
    "\n",
    "i = 0  # i+1 is the amount of components to keep\n",
    "while (ratio[i] < 0.85):   # we select the first i+1 dimensions that explain 85% of the variance\n",
    "    i = i + 1\n",
    "X_train_pca = X_train_pca[:, :i]  # we only keep the main components\n",
    "\n",
    "print(\"number of components : \", i+1)\n",
    "\n",
    "X_test_pca = pca.transform(X_test)\n",
    "X_test_pca = X_test_pca[:, :i]  # we only keep the main components\n"
   ]
  },
  {
   "cell_type": "code",
   "execution_count": 13,
   "metadata": {},
   "outputs": [
    {
     "name": "stdout",
     "output_type": "stream",
     "text": [
      "DecisionTreeClassifier(class_weight=None, criterion='entropy', max_depth=15,\n",
      "            max_features=None, max_leaf_nodes=None,\n",
      "            min_impurity_decrease=1e-07, min_impurity_split=None,\n",
      "            min_samples_leaf=3, min_samples_split=2,\n",
      "            min_weight_fraction_leaf=0.0, presort=False, random_state=None,\n",
      "            splitter='best')\n",
      "Acuracy (on test set) =  0.85184375\n",
      "                               precision    recall  f1-score   support\n",
      "\n",
      "B-cell Frac A-C (pro-B cells)       0.07      0.06      0.07       252\n",
      "                    Basophils       0.77      0.73      0.75       259\n",
      "                  CD4 T cells       0.81      0.84      0.83       327\n",
      "                  CD8 T cells       0.94      0.94      0.94       722\n",
      "                          CLP       0.13      0.07      0.09        29\n",
      "                          CMP       0.48      0.43      0.45       174\n",
      "          Classical Monocytes       0.90      0.93      0.91      6288\n",
      "                  Eosinophils       0.89      0.89      0.89      3186\n",
      "                          GMP       0.68      0.69      0.69       416\n",
      "                          HSC       0.00      0.00      0.00         1\n",
      "          IgD- IgMpos B cells       0.59      0.74      0.66      2908\n",
      "        IgDpos IgMpos B cells       0.94      0.95      0.95      6588\n",
      "            IgM- IgD- B-cells       0.52      0.24      0.33      1551\n",
      "       Intermediate Monocytes       0.91      0.91      0.91      5559\n",
      "                          MEP       0.87      0.72      0.78       376\n",
      "                          MPP       0.27      0.33      0.30        73\n",
      "                  Macrophages       0.91      0.67      0.78       282\n",
      "                     NK cells       0.83      0.79      0.81       277\n",
      "                    NKT cells       0.81      0.82      0.81       503\n",
      "      Non-Classical Monocytes       0.83      0.96      0.89       295\n",
      "                 Plasma Cells       0.94      0.75      0.83       179\n",
      "                   gd T cells       0.73      0.62      0.67        26\n",
      "                         mDCs       0.82      0.64      0.72        74\n",
      "                         pDCs       0.97      0.97      0.97      1655\n",
      "\n",
      "                  avg / total       0.85      0.85      0.85     32000\n",
      "\n"
     ]
    },
    {
     "name": "stderr",
     "output_type": "stream",
     "text": [
      "/usr/lib/python3.6/site-packages/sklearn/metrics/classification.py:1135: UndefinedMetricWarning: Precision and F-score are ill-defined and being set to 0.0 in labels with no predicted samples.\n",
      "  'precision', 'predicted', average, warn_for)\n"
     ]
    }
   ],
   "source": [
    "# Learn a Decision Tree\n",
    "from sklearn import tree\n",
    "clf = tree.DecisionTreeClassifier(criterion=best_parameters['criterion'], splitter='best', max_depth=best_parameters['max_depth'], \n",
    "                                  min_samples_split=best_parameters['min_samples_split'], min_samples_leaf=3, \n",
    "                                  min_weight_fraction_leaf=0.0, max_features=None, \n",
    "                                  random_state=None, max_leaf_nodes=None, \n",
    "                                  min_impurity_decrease=1e-07, class_weight=None, presort=False)\n",
    "clf = clf.fit(X_train_pca, y_train)\n",
    "\n",
    "print(clf)\n",
    "score = clf.score(X_test_pca, y_test)\n",
    "print(\"Acuracy (on test set) = \", score)\n",
    "y_true, y_pred = y_test, clf.predict(X_test_pca)\n",
    "print( classification_report(y_true, y_pred) )\n",
    "# print(\"\\n CONFUSION MATRIX\")\n",
    "# print( confusion_matrix(y_true, y_pred) )"
   ]
  },
  {
   "cell_type": "markdown",
   "metadata": {},
   "source": [
    "En réalisant un PCA et gardant 24 composantes on obtient des résultats nettement inférieurs qu'avec les données de base. Ce n'est donc pas une bonne idée de garder cette méthode ici."
   ]
  },
  {
   "cell_type": "markdown",
   "metadata": {},
   "source": [
    "### Feature selection"
   ]
  },
  {
   "cell_type": "markdown",
   "metadata": {},
   "source": [
    "Nous allons essayer une autre méthode pour réduire la dimension du problème.\n",
    "Un des principaux avantages des arbres de décision est qu'ils sont facilement interprétables. On peut utiliser cela pour ne garder que les features qui ont eu de l'importance dans la construction de notre arbre."
   ]
  },
  {
   "cell_type": "code",
   "execution_count": 14,
   "metadata": {},
   "outputs": [],
   "source": [
    "# Learn a Decision Tree\n",
    "from sklearn import tree\n",
    "clf = tree.DecisionTreeClassifier(criterion=best_parameters['criterion'], splitter='best', max_depth=best_parameters['max_depth'], \n",
    "                                  min_samples_split=best_parameters['min_samples_split'], min_samples_leaf=3, \n",
    "                                  min_weight_fraction_leaf=0.0, max_features=None, \n",
    "                                  random_state=None, max_leaf_nodes=None, \n",
    "                                  min_impurity_decrease=1e-07, class_weight=None, presort=False)\n",
    "clf = clf.fit(X_train, y_train)"
   ]
  },
  {
   "cell_type": "code",
   "execution_count": 15,
   "metadata": {},
   "outputs": [],
   "source": [
    "importances = clf.feature_importances_"
   ]
  },
  {
   "cell_type": "code",
   "execution_count": 16,
   "metadata": {},
   "outputs": [
    {
     "name": "stdout",
     "output_type": "stream",
     "text": [
      "Feature ranking:\n",
      "1. feature 15 (0.290566)\n",
      "2. feature 31 (0.145769)\n",
      "3. feature 2 (0.144112)\n",
      "4. feature 18 (0.106538)\n",
      "5. feature 20 (0.078381)\n",
      "6. feature 35 (0.049713)\n",
      "7. feature 13 (0.047416)\n",
      "8. feature 5 (0.030895)\n",
      "9. feature 11 (0.029273)\n",
      "10. feature 26 (0.024795)\n",
      "11. feature 8 (0.013126)\n",
      "12. feature 12 (0.009489)\n",
      "13. feature 27 (0.007873)\n",
      "14. feature 17 (0.006145)\n",
      "15. feature 22 (0.003985)\n",
      "16. feature 25 (0.003713)\n",
      "17. feature 4 (0.003592)\n",
      "18. feature 3 (0.001519)\n",
      "19. feature 14 (0.001244)\n",
      "20. feature 32 (0.000562)\n",
      "21. feature 10 (0.000297)\n",
      "22. feature 23 (0.000201)\n",
      "23. feature 0 (0.000168)\n",
      "24. feature 6 (0.000160)\n",
      "25. feature 30 (0.000115)\n",
      "26. feature 1 (0.000072)\n",
      "27. feature 24 (0.000066)\n",
      "28. feature 28 (0.000062)\n",
      "29. feature 16 (0.000058)\n",
      "30. feature 33 (0.000038)\n",
      "31. feature 36 (0.000037)\n",
      "32. feature 37 (0.000023)\n",
      "33. feature 19 (0.000000)\n",
      "34. feature 21 (0.000000)\n",
      "35. feature 9 (0.000000)\n",
      "36. feature 7 (0.000000)\n",
      "37. feature 29 (0.000000)\n",
      "38. feature 34 (0.000000)\n"
     ]
    }
   ],
   "source": [
    "indices = np.argsort(importances)[::-1]\n",
    "\n",
    "# Print the feature ranking\n",
    "print(\"Feature ranking:\")\n",
    "\n",
    "for f in range(X_train.shape[1]):\n",
    "    print(\"%d. feature %d (%f)\" % (f + 1, indices[f], importances[indices[f]]))"
   ]
  },
  {
   "cell_type": "code",
   "execution_count": 17,
   "metadata": {},
   "outputs": [
    {
     "data": {
      "image/png": "[encoded data removed]",
      "text/plain": [
       "<Figure size 720x576 with 1 Axes>"
      ]
     },
     "metadata": {},
     "output_type": "display_data"
    }
   ],
   "source": [
    "# Plot the feature importances of the tree\n",
    "fig = plt.figure(figsize=(10, 8))\n",
    "plt.title(\"Feature importances\")\n",
    "plt.bar(range(X_train.shape[1]), importances[indices],color=\"r\")\n",
    "plt.xticks(range(X_train.shape[1]), indices)\n",
    "plt.xlim([-1, X_train.shape[1]])\n",
    "plt.show()"
   ]
  },
  {
   "cell_type": "markdown",
   "metadata": {},
   "source": [
    "On décide de garder les 19 premières features (jusqu'à 14 inclus)"
   ]
  },
  {
   "cell_type": "code",
   "execution_count": 18,
   "metadata": {},
   "outputs": [],
   "source": [
    "selected_features=np.array([indices[i] for i in range(0,18)])\n",
    "X_train_reduced = X_train[:,selected_features]\n",
    "X_test_reduced = X_test[:,selected_features]"
   ]
  },
  {
   "cell_type": "code",
   "execution_count": 19,
   "metadata": {},
   "outputs": [
    {
     "name": "stdout",
     "output_type": "stream",
     "text": [
      "DecisionTreeClassifier(class_weight=None, criterion='entropy', max_depth=15,\n",
      "            max_features=None, max_leaf_nodes=None,\n",
      "            min_impurity_decrease=1e-07, min_impurity_split=None,\n",
      "            min_samples_leaf=3, min_samples_split=2,\n",
      "            min_weight_fraction_leaf=0.0, presort=False, random_state=None,\n",
      "            splitter='best')\n",
      "Acuracy (on test set) =  0.9663125\n",
      "                               precision    recall  f1-score   support\n",
      "\n",
      "B-cell Frac A-C (pro-B cells)       0.82      0.88      0.85       252\n",
      "                    Basophils       0.92      0.92      0.92       259\n",
      "                  CD4 T cells       0.86      0.90      0.88       327\n",
      "                  CD8 T cells       0.97      0.99      0.98       722\n",
      "                          CLP       0.91      1.00      0.95        29\n",
      "                          CMP       0.99      0.97      0.98       174\n",
      "          Classical Monocytes       1.00      1.00      1.00      6288\n",
      "                  Eosinophils       1.00      1.00      1.00      3186\n",
      "                          GMP       1.00      0.99      0.99       416\n",
      "                          HSC       0.00      0.00      0.00         1\n",
      "          IgD- IgMpos B cells       0.80      1.00      0.89      2908\n",
      "        IgDpos IgMpos B cells       1.00      1.00      1.00      6588\n",
      "            IgM- IgD- B-cells       0.99      0.55      0.71      1551\n",
      "       Intermediate Monocytes       0.99      1.00      0.99      5559\n",
      "                          MEP       0.98      0.95      0.96       376\n",
      "                          MPP       0.92      0.97      0.95        73\n",
      "                  Macrophages       0.96      0.91      0.93       282\n",
      "                     NK cells       0.88      0.95      0.91       277\n",
      "                    NKT cells       1.00      0.93      0.97       503\n",
      "      Non-Classical Monocytes       0.98      0.93      0.95       295\n",
      "                 Plasma Cells       0.94      0.84      0.89       179\n",
      "                   gd T cells       0.71      0.19      0.30        26\n",
      "                         mDCs       0.92      0.81      0.86        74\n",
      "                         pDCs       1.00      0.97      0.98      1655\n",
      "\n",
      "                  avg / total       0.97      0.97      0.96     32000\n",
      "\n"
     ]
    }
   ],
   "source": [
    "# Learn a Decision Tree\n",
    "from sklearn import tree\n",
    "clf = tree.DecisionTreeClassifier(criterion=best_parameters['criterion'], splitter='best', max_depth=best_parameters['max_depth'], \n",
    "                                  min_samples_split=best_parameters['min_samples_split'], min_samples_leaf=3, \n",
    "                                  min_weight_fraction_leaf=0.0, max_features=None, \n",
    "                                  random_state=None, max_leaf_nodes=None, \n",
    "                                  min_impurity_decrease=1e-07, class_weight=None, presort=False)\n",
    "clf = clf.fit(X_train_reduced, y_train)\n",
    "\n",
    "\n",
    "print(clf)\n",
    "score = clf.score(X_test_reduced, y_test)\n",
    "print(\"Acuracy (on test set) = \", score)\n",
    "y_true, y_pred = y_test, clf.predict(X_test_reduced)\n",
    "print( classification_report(y_true, y_pred) )\n",
    "# print(\"\\n CONFUSION MATRIX\")\n",
    "# print( confusion_matrix(y_true, y_pred) )"
   ]
  },
  {
   "cell_type": "markdown",
   "metadata": {},
   "source": [
    "Avec ce nouveau jeu de données plus petit on obtient des résultats legèrement meilleurs (0.9663 contre 0.9661). On va donc le garder pour la suite pour tester des méthodes plus sophistiquées"
   ]
  },
  {
   "cell_type": "markdown",
   "metadata": {},
   "source": [
    "## Réseau de neurones"
   ]
  },
  {
   "cell_type": "markdown",
   "metadata": {},
   "source": [
    "On commence par un réseau de neurones. "
   ]
  },
  {
   "cell_type": "code",
   "execution_count": 21,
   "metadata": {},
   "outputs": [
    {
     "name": "stdout",
     "output_type": "stream",
     "text": [
      "Résultats de la cross-validation :\n",
      "Best: 0.991781 using {'alpha': 0.0001, 'hidden_layer_sizes': (15,), 'learning_rate_init': 0.01}\n"
     ]
    }
   ],
   "source": [
    "from sklearn.neural_network import MLPClassifier\n",
    "\n",
    "mlp = MLPClassifier()\n",
    "\n",
    "param_grid = [\n",
    "  {'hidden_layer_sizes': [(5,), (10,), (15,)], \n",
    "   'learning_rate_init':[0.01, 0.05, 0.1],\n",
    "   'alpha': [0.00001, 0.0001, 0.001, 0.01]}\n",
    " ]\n",
    "\n",
    "clf = GridSearchCV(mlp, param_grid)\n",
    "\n",
    "clf.fit(X_train_reduced, y_train)\n",
    "\n",
    "print(\"Résultats de la cross-validation :\")\n",
    "print(\"Best: %f using %s\" % (clf.best_score_,\n",
    "                             clf.best_params_))\n"
   ]
  },
  {
   "cell_type": "code",
   "execution_count": 22,
   "metadata": {},
   "outputs": [
    {
     "name": "stdout",
     "output_type": "stream",
     "text": [
      "GridSearchCV(cv=None, error_score='raise',\n",
      "       estimator=MLPClassifier(activation='relu', alpha=0.0001, batch_size='auto', beta_1=0.9,\n",
      "       beta_2=0.999, early_stopping=False, epsilon=1e-08,\n",
      "       hidden_layer_sizes=(100,), learning_rate='constant',\n",
      "       learning_rate_init=0.001, max_iter=200, momentum=0.9,\n",
      "       nesterovs_momentum=True, power_t=0.5, random_state=None,\n",
      "       shuffle=True, solver='adam', tol=0.0001, validation_fraction=0.1,\n",
      "       verbose=False, warm_start=False),\n",
      "       fit_params=None, iid=True, n_jobs=1,\n",
      "       param_grid=[{'hidden_layer_sizes': [(5,), (10,), (15,)], 'learning_rate_init': [0.01, 0.05, 0.1], 'alpha': [1e-05, 0.0001, 0.001, 0.01]}],\n",
      "       pre_dispatch='2*n_jobs', refit=True, return_train_score='warn',\n",
      "       scoring=None, verbose=0)\n",
      "Acuracy (on test set) =  0.96921875\n",
      "                               precision    recall  f1-score   support\n",
      "\n",
      "B-cell Frac A-C (pro-B cells)       0.94      0.71      0.81       252\n",
      "                    Basophils       0.92      0.96      0.94       259\n",
      "                  CD4 T cells       0.92      0.95      0.94       327\n",
      "                  CD8 T cells       1.00      0.99      0.99       722\n",
      "                          CLP       0.88      0.72      0.79        29\n",
      "                          CMP       1.00      0.86      0.93       174\n",
      "          Classical Monocytes       1.00      1.00      1.00      6288\n",
      "                  Eosinophils       1.00      0.99      0.99      3186\n",
      "                          GMP       0.99      0.94      0.96       416\n",
      "                          HSC       0.00      0.00      0.00         1\n",
      "          IgD- IgMpos B cells       0.80      1.00      0.89      2908\n",
      "        IgDpos IgMpos B cells       1.00      1.00      1.00      6588\n",
      "            IgM- IgD- B-cells       0.97      0.59      0.74      1551\n",
      "       Intermediate Monocytes       1.00      1.00      1.00      5559\n",
      "                          MEP       1.00      0.97      0.98       376\n",
      "                          MPP       0.67      0.99      0.80        73\n",
      "                  Macrophages       0.96      0.86      0.91       282\n",
      "                     NK cells       0.95      0.96      0.96       277\n",
      "                    NKT cells       0.99      0.99      0.99       503\n",
      "      Non-Classical Monocytes       0.97      1.00      0.98       295\n",
      "                 Plasma Cells       1.00      0.94      0.97       179\n",
      "                   gd T cells       0.40      0.31      0.35        26\n",
      "                         mDCs       1.00      0.89      0.94        74\n",
      "                         pDCs       0.99      1.00      1.00      1655\n",
      "\n",
      "                  avg / total       0.97      0.97      0.97     32000\n",
      "\n"
     ]
    }
   ],
   "source": [
    "print(clf)\n",
    "score = clf.score(X_test_reduced, y_test)\n",
    "print(\"Acuracy (on test set) = \", score)\n",
    "y_true, y_pred = y_test, clf.predict(X_test_reduced)\n",
    "print( classification_report(y_true, y_pred) )\n",
    "# print(\"\\n CONFUSION MATRIX\")\n",
    "# print( confusion_matrix(y_true, y_pred) )"
   ]
  },
  {
   "cell_type": "markdown",
   "metadata": {},
   "source": [
    "On obtient un score de 0.969, qui est donc meilleur que l'arbre de décision, mais assez proche. On va donc exploiter plus l'idée de l'arbre en utilisant une foret aléatoire"
   ]
  },
  {
   "cell_type": "markdown",
   "metadata": {},
   "source": [
    "### Random forest"
   ]
  },
  {
   "cell_type": "code",
   "execution_count": 23,
   "metadata": {},
   "outputs": [
    {
     "name": "stdout",
     "output_type": "stream",
     "text": [
      "Résultats de la cross-validation :\n",
      "Best: 0.997000 using {'max_depth': 15, 'max_features': 'log2', 'n_estimators': 100}\n"
     ]
    }
   ],
   "source": [
    "from sklearn.ensemble import RandomForestClassifier\n",
    "\n",
    "param_grid = {'n_estimators':[50, 100], 'max_features':['auto', 'log2', None], 'max_depth':[10, 15]}\n",
    "\n",
    "rf = RandomForestClassifier()\n",
    "\n",
    "# Initialiser une validation croisée\n",
    "clf = GridSearchCV(rf, param_grid)\n",
    "\n",
    "# Faire tourner la validation croisée sur le jeu d'entraînement\n",
    "clf=clf.fit(X_train_reduced, y_train)\n",
    "\n",
    "print(\"Résultats de la cross-validation :\")\n",
    "print(\"Best: %f using %s\" % (clf.best_score_,\n",
    "                             clf.best_params_))"
   ]
  },
  {
   "cell_type": "code",
   "execution_count": 24,
   "metadata": {},
   "outputs": [
    {
     "name": "stdout",
     "output_type": "stream",
     "text": [
      "GridSearchCV(cv=None, error_score='raise',\n",
      "       estimator=RandomForestClassifier(bootstrap=True, class_weight=None, criterion='gini',\n",
      "            max_depth=None, max_features='auto', max_leaf_nodes=None,\n",
      "            min_impurity_decrease=0.0, min_impurity_split=None,\n",
      "            min_samples_leaf=1, min_samples_split=2,\n",
      "            min_weight_fraction_leaf=0.0, n_estimators=10, n_jobs=1,\n",
      "            oob_score=False, random_state=None, verbose=0,\n",
      "            warm_start=False),\n",
      "       fit_params=None, iid=True, n_jobs=1,\n",
      "       param_grid={'n_estimators': [50, 100], 'max_features': ['auto', 'log2', None], 'max_depth': [10, 15]},\n",
      "       pre_dispatch='2*n_jobs', refit=True, return_train_score='warn',\n",
      "       scoring=None, verbose=0)\n",
      "Acuracy (on test set) =  0.97025\n",
      "                               precision    recall  f1-score   support\n",
      "\n",
      "B-cell Frac A-C (pro-B cells)       0.95      0.88      0.91       252\n",
      "                    Basophils       1.00      0.95      0.97       259\n",
      "                  CD4 T cells       0.93      0.96      0.94       327\n",
      "                  CD8 T cells       1.00      1.00      1.00       722\n",
      "                          CLP       1.00      0.83      0.91        29\n",
      "                          CMP       0.99      1.00      1.00       174\n",
      "          Classical Monocytes       1.00      1.00      1.00      6288\n",
      "                  Eosinophils       0.99      1.00      1.00      3186\n",
      "                          GMP       0.99      0.98      0.99       416\n",
      "                          HSC       0.00      0.00      0.00         1\n",
      "          IgD- IgMpos B cells       0.79      1.00      0.88      2908\n",
      "        IgDpos IgMpos B cells       1.00      1.00      1.00      6588\n",
      "            IgM- IgD- B-cells       0.99      0.50      0.67      1551\n",
      "       Intermediate Monocytes       0.99      1.00      1.00      5559\n",
      "                          MEP       0.99      1.00      0.99       376\n",
      "                          MPP       0.99      1.00      0.99        73\n",
      "                  Macrophages       0.97      0.91      0.94       282\n",
      "                     NK cells       0.96      0.97      0.96       277\n",
      "                    NKT cells       1.00      1.00      1.00       503\n",
      "      Non-Classical Monocytes       0.98      0.99      0.99       295\n",
      "                 Plasma Cells       0.99      0.93      0.96       179\n",
      "                   gd T cells       1.00      0.04      0.07        26\n",
      "                         mDCs       0.96      0.92      0.94        74\n",
      "                         pDCs       1.00      1.00      1.00      1655\n",
      "\n",
      "                  avg / total       0.98      0.97      0.97     32000\n",
      "\n"
     ]
    },
    {
     "name": "stderr",
     "output_type": "stream",
     "text": [
      "/usr/lib/python3.6/site-packages/sklearn/metrics/classification.py:1135: UndefinedMetricWarning: Precision and F-score are ill-defined and being set to 0.0 in labels with no predicted samples.\n",
      "  'precision', 'predicted', average, warn_for)\n"
     ]
    }
   ],
   "source": [
    "# Evaluate acuracy on test data\n",
    "print(clf)\n",
    "score = clf.score(X_test_reduced, y_test)\n",
    "print(\"Acuracy (on test set) = \", score)\n",
    "y_true, y_pred = y_test, clf.predict(X_test_reduced)\n",
    "print( classification_report(y_true, y_pred) )\n",
    "# print(\"\\n CONFUSION MATRIX\")\n",
    "# print( confusion_matrix(y_true, y_pred) )"
   ]
  },
  {
   "cell_type": "markdown",
   "metadata": {},
   "source": [
    "On obtient un score un peu meilleur, 0.970. On va utiliser l'algorithme adaboost basée sur des forêts aléatoire pour voir si on peut améliorer le reśultat"
   ]
  },
  {
   "cell_type": "markdown",
   "metadata": {},
   "source": [
    "### ADABOOST CLASSIFIER"
   ]
  },
  {
   "cell_type": "code",
   "execution_count": 25,
   "metadata": {},
   "outputs": [
    {
     "name": "stdout",
     "output_type": "stream",
     "text": [
      "Weak_learner: RandomForestClassifier(bootstrap=True, class_weight=None, criterion='gini',\n",
      "            max_depth=5, max_features='auto', max_leaf_nodes=None,\n",
      "            min_impurity_decrease=0.0, min_impurity_split=None,\n",
      "            min_samples_leaf=1, min_samples_split=2,\n",
      "            min_weight_fraction_leaf=0.0, n_estimators=10, n_jobs=1,\n",
      "            oob_score=False, random_state=None, verbose=0,\n",
      "            warm_start=False)\n",
      "Weights of weak classifiers:  [5.53366225 4.95338513 4.787168   5.20996342 4.81961775 4.65988391\n",
      " 5.23216678 4.80150257 4.79726491 4.85314412 5.06290186 5.13836546\n",
      " 4.82764453 4.67343757 5.18818302 4.64012792 5.15962656 4.74795459\n",
      " 5.23443902 5.54943488 4.89254615 5.01513584 4.85792365 4.75913665\n",
      " 5.29379519 4.88376276 4.50608186 5.26965884 5.20675797 4.75882527\n",
      " 5.35319604 5.03374327 4.95832003 4.52810021 4.94515652 5.10604555\n",
      " 4.89983188 4.6277304  4.61717183 5.18116599 4.85094439 5.2204625\n",
      " 5.24486311 4.94327207 5.18894544 5.39568957 5.22824888 5.09019611\n",
      " 4.70218617 4.52065963 5.34229322 5.07140274 5.41508291 4.76928432\n",
      " 4.88166428 5.03588888 4.75055712 5.45111534 4.51397776 4.86209163\n",
      " 4.89230194 4.76185043 4.92576256 5.17386025 4.97446673 4.59937092\n",
      " 5.27207472 4.40564972 4.56903634 5.07625344 5.18039823 5.30295151\n",
      " 4.77923339 4.9076533  4.95124693 5.36487414 4.72511445 4.54555349\n",
      " 5.15975135 4.9014608  4.59610872 5.21153626 5.16866847 4.95891852\n",
      " 4.77983736 4.98712254 4.8001782  4.75146927 4.86408656 5.16196464\n",
      " 5.01630164 5.44669883 4.89970425 4.93320857 5.04079778 5.05865254\n",
      " 4.73369112 5.06285526 4.89591641 4.7425243  4.94799118 5.09985\n",
      " 4.83115712 5.30206652 4.88717852 5.1837272  4.88717234 5.24283399\n",
      " 5.18620204 5.00315141 5.12541816 4.4223005  5.1881236  5.2110595\n",
      " 4.64960956 4.9059404  4.87216163 4.76697517 5.1391506  4.93776801\n",
      " 4.93405918 5.14367595 5.00722662 4.87303265 5.10122312 4.58589712\n",
      " 4.68886486 5.21164405 4.7196955  5.01239372 5.17133335 4.9421736\n",
      " 5.19521284 5.32847399 5.27025255 4.82123243 4.88033678 4.79847298\n",
      " 5.01327321 4.60316312 5.0736001  4.71343074 5.04173373 5.3588589\n",
      " 4.87783289 5.02140623 5.42971238 5.06218233 4.85188569 4.75345034\n",
      " 4.78462627 4.8865513  5.08187987 5.04525375 4.9676875  4.91612009\n",
      " 5.16989665 5.53949379 4.53377923 4.95645955 4.89810372 4.47878485\n",
      " 4.92292069 4.70701507 5.14905132 5.01199028 5.26251162 4.9318863\n",
      " 5.09649678 5.25710263 4.98688877 4.47567272 5.30522652 4.91683108\n",
      " 5.08048345 4.98235576 5.06198854 5.10686725 5.10122769 4.91199397\n",
      " 4.59430945 5.1789218  4.92188366 4.61041187 5.19134552 4.95185561\n",
      " 4.66376636 4.98845179 5.23481435 5.0161772  4.58830781 5.45425416\n",
      " 4.71289927 5.08644137 5.32445341 4.95058457 5.14873651 4.76129682\n",
      " 5.08069681 4.7800511  5.17828515 4.71960025 4.97414781 4.80818955\n",
      " 4.82317222 4.73633958 5.12359567 4.71979142 5.09253865 5.1641157\n",
      " 5.12573552 5.19733637 5.13592795 4.74209279 5.20595236 5.00963099\n",
      " 4.9845497  5.15506234 5.09472899 5.17385848 4.99912501 5.12717356\n",
      " 4.98355775 5.44868225 4.65850598 5.21974895 4.98202612 4.85328921\n",
      " 5.18770319 5.09388237 4.72799601 5.07647206 4.67173938 5.19237393\n",
      " 4.45770519 5.62640509 4.6201613  4.90232946 4.63363376 4.32728893\n",
      " 4.85602476 4.73732165 5.11192089 5.03042055 5.14860485 4.44680452\n",
      " 5.20884613 4.67612971 5.3116351  5.20203673 5.37272544 5.58244891\n",
      " 4.45899396 5.15747987 4.71353162 5.03286061 4.90258739 5.20509466\n",
      " 4.75208462 4.93432171 4.58447212 4.82328739 5.11840913 4.90049104\n",
      " 4.83869018 4.80584629 4.9430998  4.97309114 4.96526765 4.792143\n",
      " 5.28680231 5.275761   5.25659776 4.60577061 4.88553672 4.54070441\n",
      " 5.38740443 5.07667721 4.93051801 4.65924475 5.05125163 5.16767038\n",
      " 5.38612794 5.23796816 4.9672081  4.92711096 5.12531732 5.08972201\n",
      " 5.2727117  4.65979009 4.76866363 4.27729129 4.7281474  4.73682154\n",
      " 5.25224361 5.07294785 4.85481612 5.09114838 5.15769796 5.11708748]\n"
     ]
    },
    {
     "data": {
      "image/png": "[encoded data removed]",
      "text/plain": [
       "<Figure size 432x288 with 1 Axes>"
      ]
     },
     "metadata": {},
     "output_type": "display_data"
    },
    {
     "name": "stdout",
     "output_type": "stream",
     "text": [
      "n_estimators= 300\n",
      "Acuracy (on test set) =  0.97115625\n",
      "                               precision    recall  f1-score   support\n",
      "\n",
      "B-cell Frac A-C (pro-B cells)       0.93      0.88      0.91       252\n",
      "                    Basophils       1.00      0.96      0.98       259\n",
      "                  CD4 T cells       0.98      0.99      0.98       327\n",
      "                  CD8 T cells       1.00      1.00      1.00       722\n",
      "                          CLP       1.00      0.76      0.86        29\n",
      "                          CMP       0.99      1.00      1.00       174\n",
      "          Classical Monocytes       1.00      1.00      1.00      6288\n",
      "                  Eosinophils       0.99      1.00      0.99      3186\n",
      "                          GMP       1.00      0.96      0.98       416\n",
      "                          HSC       0.00      0.00      0.00         1\n",
      "          IgD- IgMpos B cells       0.79      1.00      0.88      2908\n",
      "        IgDpos IgMpos B cells       1.00      1.00      1.00      6588\n",
      "            IgM- IgD- B-cells       1.00      0.51      0.67      1551\n",
      "       Intermediate Monocytes       0.99      1.00      0.99      5559\n",
      "                          MEP       1.00      0.99      0.99       376\n",
      "                          MPP       0.92      1.00      0.96        73\n",
      "                  Macrophages       0.97      0.96      0.97       282\n",
      "                     NK cells       1.00      0.99      0.99       277\n",
      "                    NKT cells       1.00      0.98      0.99       503\n",
      "      Non-Classical Monocytes       0.99      0.97      0.98       295\n",
      "                 Plasma Cells       1.00      0.96      0.98       179\n",
      "                   gd T cells       1.00      0.88      0.94        26\n",
      "                         mDCs       0.99      0.95      0.97        74\n",
      "                         pDCs       1.00      1.00      1.00      1655\n",
      "\n",
      "                  avg / total       0.98      0.97      0.97     32000\n",
      "\n"
     ]
    },
    {
     "name": "stderr",
     "output_type": "stream",
     "text": [
      "/usr/lib/python3.6/site-packages/sklearn/metrics/classification.py:1135: UndefinedMetricWarning: Precision and F-score are ill-defined and being set to 0.0 in labels with no predicted samples.\n",
      "  'precision', 'predicted', average, warn_for)\n"
     ]
    }
   ],
   "source": [
    "from sklearn.ensemble import AdaBoostClassifier\n",
    "from sklearn.ensemble import RandomForestClassifier\n",
    "\n",
    "# Create and train an adaBoost classifier using SMALL Decision Trees as weak classifiers\n",
    "#weak_learner = tree.DecisionTreeClassifier(max_depth=4)\n",
    "weak_learner = RandomForestClassifier(n_estimators=10, max_depth=5)\n",
    "clf = AdaBoostClassifier(weak_learner, n_estimators=300, learning_rate=1.0, algorithm='SAMME', \n",
    "                         random_state=None)\n",
    "clf = clf.fit(X_train, y_train)\n",
    "print(\"Weak_learner:\", clf.base_estimator)\n",
    "print(\"Weights of weak classifiers: \", clf.estimator_weights_)\n",
    "      \n",
    "# Plot training curves (error = f(iterations))\n",
    "n_iter = clf.n_estimators\n",
    "from sklearn.metrics import zero_one_loss\n",
    "ada_train_err = np.zeros((clf.n_estimators,))\n",
    "for i, y_pred in enumerate(clf.staged_predict(X_train)):\n",
    "    ada_train_err[i] = zero_one_loss(y_pred, y_train)\n",
    "ada_test_err = np.zeros((clf.n_estimators,))\n",
    "for i, y_pred in enumerate(clf.staged_predict(X_test)):\n",
    "    ada_test_err[i] = zero_one_loss(y_pred, y_test)\n",
    "fig = plt.figure()\n",
    "ax = fig.add_subplot(111)\n",
    "ax.plot(np.arange(n_iter) + 1, ada_train_err,\n",
    "        label='Training Error',\n",
    "        color='green')\n",
    "ax.plot(np.arange(n_iter) + 1, ada_test_err,\n",
    "        label='Test Error',\n",
    "        color='orange')\n",
    "ax.set_ylim((0.0, 0.5))\n",
    "ax.set_xlabel('boosting iterations')\n",
    "ax.set_ylabel('error rate')\n",
    "leg = ax.legend(loc='upper right', fancybox=True)\n",
    "plt.show()\n",
    "\n",
    "# Evaluate acuracy on test data\n",
    "print(\"n_estimators=\", clf.n_estimators)\n",
    "score = clf.score(X_test, y_test)\n",
    "print(\"Acuracy (on test set) = \", score)\n",
    "y_true, y_pred = y_test, clf.predict(X_test)\n",
    "print( classification_report(y_true, y_pred) )\n",
    "# print(\"\\n CONFUSION MATRIX\")\n",
    "# print( confusion_matrix(y_true, y_pred) )"
   ]
  },
  {
   "cell_type": "markdown",
   "metadata": {},
   "source": [
    "On obtient un score encore meilleur, 0.971"
   ]
  },
  {
   "cell_type": "markdown",
   "metadata": {},
   "source": [
    "### Conclusion"
   ]
  },
  {
   "cell_type": "markdown",
   "metadata": {},
   "source": [
    "On a obtenu un résultat de 0.971. On l'a obtenu avec l'algorithme adaboost en utilisant des forêts aléatoires comme weak learner, après avoir fait une feature selection ne gardant que 19 features sur 38. Si on avait un jeu de données plus grand, et avec le même nombre de representats pour chaque classe, je pense qu'on aurait pu atteindre des meilleurs résultats. Par exemple, on aurait pu utiliser une nested cross-validation sur tout l'ensemble de données (train set + test set) pour pouvoir apprendre sur plus de données tout en ayant des tests non biaisés. On aurait pu essayer aussi d'autres algorithmes, comme les réseaux de neurones convolutionnels, que je n'ai pas utilisé car ma machine est trop lente.\n",
    "Mais le résultat obtenu est quand même satisfaisant."
   ]
  },
  {
   "cell_type": "code",
   "execution_count": null,
   "metadata": {},
   "outputs": [],
   "source": []
  }
 ],
 "metadata": {
  "anaconda-cloud": {},
  "kernelspec": {
   "display_name": "Python 3",
   "language": "python",
   "name": "python3"
  },
  "language_info": {
   "codemirror_mode": {
    "name": "ipython",
    "version": 3
   },
   "file_extension": ".py",
   "mimetype": "text/x-python",
   "name": "python",
   "nbconvert_exporter": "python",
   "pygments_lexer": "ipython3",
   "version": "3.6.5"
  }
 },
 "nbformat": 4,
 "nbformat_minor": 1
}
